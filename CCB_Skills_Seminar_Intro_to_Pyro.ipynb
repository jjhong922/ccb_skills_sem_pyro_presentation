{
 "cells": [
  {
   "cell_type": "markdown",
   "metadata": {
    "id": "P_6MObidBWBX"
   },
   "source": [
    "# Introduction to Pyro: A Probabilistic Programming Language\n",
    "### CCB Skills Seminar (12/15/2021)\n",
    "*Authored by Justin Hong*"
   ]
  },
  {
   "cell_type": "markdown",
   "metadata": {
    "id": "mhokbwY_B16J"
   },
   "source": [
    "In this tutorial, we will explore Pyro's capabilities in constructing probablistic models and subsequently performing inference to estimate latent unobserved variables given downstream observations. We will apply Bayesian Linear Regression to a toy dataset. First, we will perform inference with MCMC. Then, we will do the same with stochastic variational inference. This can be done by writing a guide manually, or with an AutoGuide. We will demonstrate both.\n",
    "\n",
    "You can find the associated presentation at: https://ccbskillssem.github.io/.\n",
    "\n",
    "References\n",
    "- https://pyro.ai/examples/bayesian_regression.html"
   ]
  },
  {
   "cell_type": "markdown",
   "metadata": {
    "id": "_HROxAM2BynL"
   },
   "source": [
    "### Imports"
   ]
  },
  {
   "cell_type": "code",
   "execution_count": null,
   "metadata": {
    "colab": {
     "base_uri": "https://localhost:8080/"
    },
    "id": "rZOrF_2mBAT_",
    "outputId": "27512595-4700-4c72-c90e-736b64253358"
   },
   "outputs": [
    {
     "name": "stdout",
     "output_type": "stream",
     "text": [
      "Collecting pyro-ppl==1.8.0\n",
      "  Downloading pyro_ppl-1.8.0-py3-none-any.whl (713 kB)\n",
      "\u001b[K     |████████████████████████████████| 713 kB 7.1 MB/s \n",
      "\u001b[?25hRequirement already satisfied: tqdm>=4.36 in /usr/local/lib/python3.7/dist-packages (from pyro-ppl==1.8.0) (4.62.3)\n",
      "Requirement already satisfied: opt-einsum>=2.3.2 in /usr/local/lib/python3.7/dist-packages (from pyro-ppl==1.8.0) (3.3.0)\n",
      "Requirement already satisfied: numpy>=1.7 in /usr/local/lib/python3.7/dist-packages (from pyro-ppl==1.8.0) (1.19.5)\n",
      "Collecting pyro-api>=0.1.1\n",
      "  Downloading pyro_api-0.1.2-py3-none-any.whl (11 kB)\n",
      "Requirement already satisfied: torch>=1.9.0 in /usr/local/lib/python3.7/dist-packages (from pyro-ppl==1.8.0) (1.10.0+cu111)\n",
      "Requirement already satisfied: typing-extensions in /usr/local/lib/python3.7/dist-packages (from torch>=1.9.0->pyro-ppl==1.8.0) (3.10.0.2)\n",
      "Installing collected packages: pyro-api, pyro-ppl\n",
      "Successfully installed pyro-api-0.1.2 pyro-ppl-1.8.0\n",
      "Collecting mplscience\n",
      "  Downloading mplscience-0.0.5-py3-none-any.whl (4.8 kB)\n",
      "Requirement already satisfied: seaborn in /usr/local/lib/python3.7/dist-packages (from mplscience) (0.11.2)\n",
      "Collecting importlib-metadata<2.0,>=1.0\n",
      "  Downloading importlib_metadata-1.7.0-py2.py3-none-any.whl (31 kB)\n",
      "Requirement already satisfied: matplotlib in /usr/local/lib/python3.7/dist-packages (from mplscience) (3.2.2)\n",
      "Requirement already satisfied: zipp>=0.5 in /usr/local/lib/python3.7/dist-packages (from importlib-metadata<2.0,>=1.0->mplscience) (3.6.0)\n",
      "Requirement already satisfied: kiwisolver>=1.0.1 in /usr/local/lib/python3.7/dist-packages (from matplotlib->mplscience) (1.3.2)\n",
      "Requirement already satisfied: numpy>=1.11 in /usr/local/lib/python3.7/dist-packages (from matplotlib->mplscience) (1.19.5)\n",
      "Requirement already satisfied: python-dateutil>=2.1 in /usr/local/lib/python3.7/dist-packages (from matplotlib->mplscience) (2.8.2)\n",
      "Requirement already satisfied: cycler>=0.10 in /usr/local/lib/python3.7/dist-packages (from matplotlib->mplscience) (0.11.0)\n",
      "Requirement already satisfied: pyparsing!=2.0.4,!=2.1.2,!=2.1.6,>=2.0.1 in /usr/local/lib/python3.7/dist-packages (from matplotlib->mplscience) (3.0.6)\n",
      "Requirement already satisfied: six>=1.5 in /usr/local/lib/python3.7/dist-packages (from python-dateutil>=2.1->matplotlib->mplscience) (1.15.0)\n",
      "Requirement already satisfied: pandas>=0.23 in /usr/local/lib/python3.7/dist-packages (from seaborn->mplscience) (1.1.5)\n",
      "Requirement already satisfied: scipy>=1.0 in /usr/local/lib/python3.7/dist-packages (from seaborn->mplscience) (1.4.1)\n",
      "Requirement already satisfied: pytz>=2017.2 in /usr/local/lib/python3.7/dist-packages (from pandas>=0.23->seaborn->mplscience) (2018.9)\n",
      "Installing collected packages: importlib-metadata, mplscience\n",
      "  Attempting uninstall: importlib-metadata\n",
      "    Found existing installation: importlib-metadata 4.8.2\n",
      "    Uninstalling importlib-metadata-4.8.2:\n",
      "      Successfully uninstalled importlib-metadata-4.8.2\n",
      "\u001b[31mERROR: pip's dependency resolver does not currently take into account all the packages that are installed. This behaviour is the source of the following dependency conflicts.\n",
      "markdown 3.3.6 requires importlib-metadata>=4.4; python_version < \"3.10\", but you have importlib-metadata 1.7.0 which is incompatible.\u001b[0m\n",
      "Successfully installed importlib-metadata-1.7.0 mplscience-0.0.5\n"
     ]
    }
   ],
   "source": [
    "!pip install pyro-ppl==1.8.0\n",
    "!pip install mplscience"
   ]
  },
  {
   "cell_type": "code",
   "execution_count": null,
   "metadata": {
    "id": "sHqsX9A4BDLQ"
   },
   "outputs": [],
   "source": [
    "import torch\n",
    "import pyro\n",
    "import pyro.distributions as dist\n",
    "import numpy as np\n",
    "import pandas as pd\n",
    "import matplotlib.pyplot as plt\n",
    "import seaborn as sns\n",
    "import mplscience"
   ]
  },
  {
   "cell_type": "code",
   "execution_count": null,
   "metadata": {
    "id": "wF2exiYhQRgR"
   },
   "outputs": [],
   "source": [
    "mplscience.set_style()"
   ]
  },
  {
   "cell_type": "markdown",
   "metadata": {
    "id": "NX5jNn4uoPVD"
   },
   "source": [
    "### Bayesian Linear Regression\n",
    "\n",
    "As described in the presentation, we have a mock dataset of midterm and final grades. We would like to reason about the relationship between these scores, and predict final scores for the current semester (e.g. if we would like to modify the final to hit a target average)."
   ]
  },
  {
   "cell_type": "code",
   "execution_count": null,
   "metadata": {
    "id": "VKPKFGDYEAle"
   },
   "outputs": [],
   "source": [
    "true_average = 50\n",
    "student_true_averages_scale = 5\n",
    "midterm_var = 30\n",
    "final_bias, final_var = 10, 20\n",
    "final_weight = 0.8\n",
    "\n",
    "\n",
    "def exam_scores(n_students):\n",
    "  student_true_averages = np.clip(np.random.normal(loc=true_average, scale=student_true_averages_scale, size=n_students), 0, 100)\n",
    "  midterm_scores = student_true_averages + np.random.normal(loc=0, scale=np.sqrt(midterm_var), size=n_students)\n",
    "  final_scores = final_weight * student_true_averages + final_bias + np.random.normal(loc=0, scale=np.sqrt(final_var), size=n_students)\n",
    "  return np.clip(midterm_scores, 0, 100), np.clip(final_scores, 0, 100)"
   ]
  },
  {
   "cell_type": "code",
   "execution_count": null,
   "metadata": {
    "id": "HINfZU7aHhQI"
   },
   "outputs": [],
   "source": [
    "midterm_scores, final_scores = exam_scores(500)\n",
    "midterm_scores_t, final_scores_t = torch.tensor(midterm_scores), torch.tensor(final_scores)"
   ]
  },
  {
   "cell_type": "code",
   "execution_count": null,
   "metadata": {
    "colab": {
     "base_uri": "https://localhost:8080/",
     "height": 291
    },
    "id": "QEjBboLpCDcD",
    "outputId": "1a632c42-9b9b-49df-ec81-960c8143d43d"
   },
   "outputs": [
    {
     "data": {
      "image/png": "[encoded data removed]",
      "text/plain": [
       "<Figure size 288x288 with 1 Axes>"
      ]
     },
     "metadata": {
      "needs_background": "light"
     },
     "output_type": "display_data"
    }
   ],
   "source": [
    "with mplscience.style_context():\n",
    "    plt.scatter(midterm_scores, final_scores, s=2)\n",
    "    plt.xlim(0, 100)\n",
    "    plt.ylim(0, 100) \n",
    "    plt.xlabel('Midterm score')\n",
    "    plt.ylabel('Final score')"
   ]
  },
  {
   "cell_type": "markdown",
   "metadata": {
    "id": "bt5XY8QxEW03"
   },
   "source": [
    "Given this dataset, we are interested in understanding the relationship between midterm scores and final scores. We can do so with a Bayesian Linear Regression model which we will implement in Pyro.\n",
    "\n",
    "With vanilla regression, we aim to fit a linear function to our data incorporating weights for each feature and a bias.\n",
    "\n",
    "$$y = wX + b$$\n",
    "\n",
    "where in this case $y$ is the final score, and $X$ is a scalar representing our midterm score.\n",
    "\n",
    "In Bayesian Regressian, we additionally introduce a noise term, $\\epsilon$, which accounts for uncertainty in our regressian estimate. \n",
    "\n",
    "$$y = wX + b + \\epsilon$$\n",
    "$$\\textrm{where } \\epsilon \\sim \\textrm{Normal}(0, \\sigma^2)$$\n",
    "\n",
    "Given that our data appears homoskedastic (constant noise relative to input), this is a suitable model for interpreting our data."
   ]
  },
  {
   "cell_type": "code",
   "execution_count": null,
   "metadata": {
    "id": "pvCV4rNrCXIq"
   },
   "outputs": [],
   "source": [
    "def model(midterm_scores, final_scores):\n",
    "  final_bias = pyro.sample('bias', dist.Normal(0, 10))\n",
    "  final_weight = pyro.sample('final_weight', dist.Normal(0, 1))\n",
    "  sigma = pyro.sample('sigma', dist.Exponential(1.0))\n",
    "\n",
    "  with pyro.plate('students', midterm_scores.shape[0]):\n",
    "    pyro.sample('final_score', dist.Normal(midterm_scores * final_weight + final_bias, sigma), obs=final_scores)"
   ]
  },
  {
   "cell_type": "markdown",
   "metadata": {
    "id": "Ii_M9HF8KkEv"
   },
   "source": [
    "We can visualize any Pyro model with the `render_model(...)` method. This is a great way to sanity check that your implementation aligns with your intended graphical model (Note: this feature is only available in v1.8.0+ of Pyro)."
   ]
  },
  {
   "cell_type": "code",
   "execution_count": null,
   "metadata": {
    "colab": {
     "base_uri": "https://localhost:8080/",
     "height": 271
    },
    "id": "TIcZ7l1EAceV",
    "outputId": "1869767b-0851-4673-d357-a63fe678ea19"
   },
   "outputs": [
    {
     "data": {
      "image/svg+xml": [
       "<?xml version=\"1.0\" encoding=\"UTF-8\" standalone=\"no\"?>\n",
       "<!DOCTYPE svg PUBLIC \"-//W3C//DTD SVG 1.1//EN\"\n",
       " \"http://www.w3.org/Graphics/SVG/1.1/DTD/svg11.dtd\">\n",
       "<!-- Generated by graphviz version 2.40.1 (20161225.0304)\n",
       " -->\n",
       "<!-- Title: %3 Pages: 1 -->\n",
       "<svg width=\"444pt\" height=\"187pt\"\n",
       " viewBox=\"0.00 0.00 443.50 187.00\" xmlns=\"http://www.w3.org/2000/svg\" xmlns:xlink=\"http://www.w3.org/1999/xlink\">\n",
       "<g id=\"graph0\" class=\"graph\" transform=\"scale(1 1) rotate(0) translate(4 183)\">\n",
       "<title>%3</title>\n",
       "<polygon fill=\"#ffffff\" stroke=\"transparent\" points=\"-4,4 -4,-183 439.5,-183 439.5,4 -4,4\"/>\n",
       "<g id=\"clust1\" class=\"cluster\">\n",
       "<title>cluster_students</title>\n",
       "<polygon fill=\"none\" stroke=\"#000000\" points=\"71,-8 71,-83 189,-83 189,-8 71,-8\"/>\n",
       "<text text-anchor=\"middle\" x=\"157.5\" y=\"-15.8\" font-family=\"Times,serif\" font-size=\"14.00\" fill=\"#000000\">students</text>\n",
       "</g>\n",
       "<!-- bias -->\n",
       "<g id=\"node1\" class=\"node\">\n",
       "<title>bias</title>\n",
       "<ellipse fill=\"#ffffff\" stroke=\"#000000\" cx=\"27\" cy=\"-145\" rx=\"27\" ry=\"18\"/>\n",
       "<text text-anchor=\"middle\" x=\"27\" y=\"-141.3\" font-family=\"Times,serif\" font-size=\"14.00\" fill=\"#000000\">bias</text>\n",
       "</g>\n",
       "<!-- final_score -->\n",
       "<g id=\"node4\" class=\"node\">\n",
       "<title>final_score</title>\n",
       "<ellipse fill=\"#c0c0c0\" stroke=\"#000000\" cx=\"130\" cy=\"-57\" rx=\"51.1914\" ry=\"18\"/>\n",
       "<text text-anchor=\"middle\" x=\"130\" y=\"-53.3\" font-family=\"Times,serif\" font-size=\"14.00\" fill=\"#000000\">final_score</text>\n",
       "</g>\n",
       "<!-- bias&#45;&gt;final_score -->\n",
       "<g id=\"edge1\" class=\"edge\">\n",
       "<title>bias&#45;&gt;final_score</title>\n",
       "<path fill=\"none\" stroke=\"#000000\" d=\"M42.5239,-129.8322C48.7826,-123.8514 56.1347,-116.9923 63,-111 75.0713,-100.4637 88.7877,-89.2779 100.6521,-79.836\"/>\n",
       "<polygon fill=\"#000000\" stroke=\"#000000\" points=\"102.855,-82.5561 108.527,-73.6074 98.5125,-77.0658 102.855,-82.5561\"/>\n",
       "</g>\n",
       "<!-- final_weight -->\n",
       "<g id=\"node2\" class=\"node\">\n",
       "<title>final_weight</title>\n",
       "<ellipse fill=\"#ffffff\" stroke=\"#000000\" cx=\"130\" cy=\"-145\" rx=\"57.6901\" ry=\"18\"/>\n",
       "<text text-anchor=\"middle\" x=\"130\" y=\"-141.3\" font-family=\"Times,serif\" font-size=\"14.00\" fill=\"#000000\">final_weight</text>\n",
       "</g>\n",
       "<!-- final_weight&#45;&gt;final_score -->\n",
       "<g id=\"edge2\" class=\"edge\">\n",
       "<title>final_weight&#45;&gt;final_score</title>\n",
       "<path fill=\"none\" stroke=\"#000000\" d=\"M130,-126.7663C130,-114.8492 130,-99.0384 130,-85.4817\"/>\n",
       "<polygon fill=\"#000000\" stroke=\"#000000\" points=\"133.5001,-85.2103 130,-75.2103 126.5001,-85.2103 133.5001,-85.2103\"/>\n",
       "</g>\n",
       "<!-- sigma -->\n",
       "<g id=\"node3\" class=\"node\">\n",
       "<title>sigma</title>\n",
       "<ellipse fill=\"#ffffff\" stroke=\"#000000\" cx=\"238\" cy=\"-145\" rx=\"32.4942\" ry=\"18\"/>\n",
       "<text text-anchor=\"middle\" x=\"238\" y=\"-141.3\" font-family=\"Times,serif\" font-size=\"14.00\" fill=\"#000000\">sigma</text>\n",
       "</g>\n",
       "<!-- sigma&#45;&gt;final_score -->\n",
       "<g id=\"edge3\" class=\"edge\">\n",
       "<title>sigma&#45;&gt;final_score</title>\n",
       "<path fill=\"none\" stroke=\"#000000\" d=\"M219.6764,-129.7126C212.6081,-123.8397 204.4455,-117.0871 197,-111 184.5013,-100.7816 170.6161,-89.568 158.742,-80.0202\"/>\n",
       "<polygon fill=\"#000000\" stroke=\"#000000\" points=\"160.8728,-77.2424 150.8846,-73.7089 156.4892,-82.7 160.8728,-77.2424\"/>\n",
       "</g>\n",
       "<!-- distribution_description_node -->\n",
       "<g id=\"node5\" class=\"node\">\n",
       "<title>distribution_description_node</title>\n",
       "<text text-anchor=\"start\" x=\"296.5\" y=\"-163.8\" font-family=\"Times,serif\" font-size=\"14.00\" fill=\"#000000\">bias ~ Normal</text>\n",
       "<text text-anchor=\"start\" x=\"296.5\" y=\"-148.8\" font-family=\"Times,serif\" font-size=\"14.00\" fill=\"#000000\">final_weight ~ Normal</text>\n",
       "<text text-anchor=\"start\" x=\"296.5\" y=\"-133.8\" font-family=\"Times,serif\" font-size=\"14.00\" fill=\"#000000\">sigma ~ Exponential</text>\n",
       "<text text-anchor=\"start\" x=\"296.5\" y=\"-118.8\" font-family=\"Times,serif\" font-size=\"14.00\" fill=\"#000000\">final_score ~ Normal</text>\n",
       "</g>\n",
       "</g>\n",
       "</svg>\n"
      ],
      "text/plain": [
       "<graphviz.dot.Digraph at 0x7f0297418110>"
      ]
     },
     "execution_count": 8,
     "metadata": {},
     "output_type": "execute_result"
    }
   ],
   "source": [
    "pyro.render_model(model, model_args=(midterm_scores_t, final_scores_t), render_distributions=True)"
   ]
  },
  {
   "cell_type": "markdown",
   "metadata": {
    "id": "5-DM0AGfK0Lw"
   },
   "source": [
    "Now, we can infer our latent variables by running MCMC. Pyro provides an efficient implementatation of Hamiltonian Monte Carlo called the No-U-Turn Sampler (paper: http://www.stat.columbia.edu/~gelman/research/published/nuts.pdf). We can specify how many warmup steps that we want to take (not included in the final output) and how many post-warmup samples we would like to collect. The main advantage of MCMC inference methods is the accuracy of the predicted posterior. MCMC produces samples from the true posterior of the model, which means if tuned correctly, one can reliably get a good picture of the posterior  regardless of its distribution."
   ]
  },
  {
   "cell_type": "code",
   "execution_count": null,
   "metadata": {
    "colab": {
     "base_uri": "https://localhost:8080/"
    },
    "id": "Bghohs6aKVTS",
    "outputId": "5fb091ec-6e8f-4491-b216-7a0e11d7fe8c"
   },
   "outputs": [
    {
     "name": "stderr",
     "output_type": "stream",
     "text": [
      "\r",
      "Warmup:   0%|          | 0/1000 [00:00, ?it/s]/usr/local/lib/python3.7/dist-packages/pyro/poutine/subsample_messenger.py:63: TracerWarning: torch.tensor results are registered as constants in the trace. You can safely ignore this warning if you use this function to create tensors out of constant variables that would be the same every time you call this function. In any other case, this might cause the trace to be incorrect.\n",
      "  result = torch.tensor(0.0, device=self.device)\n",
      "Sample: 100%|██████████| 1000/1000 [00:37, 26.60it/s, step size=1.09e-01, acc. prob=0.929]\n"
     ]
    }
   ],
   "source": [
    "pyro.clear_param_store()\n",
    "kernel = pyro.infer.mcmc.NUTS(model, jit_compile=True)\n",
    "mcmc = pyro.infer.MCMC(kernel, num_samples=500, warmup_steps=500)\n",
    "mcmc.run(midterm_scores_t, final_scores_t)"
   ]
  },
  {
   "cell_type": "code",
   "execution_count": null,
   "metadata": {
    "id": "qndDBaxpLoaM"
   },
   "outputs": [],
   "source": [
    "mcmc_samples = {k: v.detach().cpu().numpy() for k, v in mcmc.get_samples().items()}"
   ]
  },
  {
   "cell_type": "code",
   "execution_count": null,
   "metadata": {
    "colab": {
     "base_uri": "https://localhost:8080/",
     "height": 361
    },
    "id": "cdmJDGAxLNqz",
    "outputId": "cd78cea2-1e70-492d-c6cd-a4ae952e0547"
   },
   "outputs": [
    {
     "data": {
      "text/plain": [
       "Text(0.5, 0, 'sigma')"
      ]
     },
     "execution_count": 11,
     "metadata": {},
     "output_type": "execute_result"
    },
    {
     "data": {
      "image/png": "[encoded data removed]",
      "text/plain": [
       "<Figure size 1080x360 with 3 Axes>"
      ]
     },
     "metadata": {
      "needs_background": "light"
     },
     "output_type": "display_data"
    }
   ],
   "source": [
    "fig, axes = plt.subplots(1, 3, figsize=(15, 5))\n",
    "\n",
    "sns.histplot(mcmc_samples['bias'], ax=axes[0])\n",
    "axes[0].set_xlabel('bias')\n",
    "\n",
    "sns.histplot(mcmc_samples['final_weight'].flatten(), ax=axes[1])\n",
    "axes[1].set_xlabel('final_weight')\n",
    "\n",
    "sns.histplot(mcmc_samples['sigma'].flatten(), ax=axes[2])\n",
    "axes[2].set_xlabel('sigma')"
   ]
  },
  {
   "cell_type": "markdown",
   "metadata": {
    "id": "iCPM2q4gLztu"
   },
   "source": [
    "Now that we have the MCMC samples of the latent variables, we can plot some realizations of our samples with respect to our data and visually inspect whether it seems to be a good fit."
   ]
  },
  {
   "cell_type": "code",
   "execution_count": null,
   "metadata": {
    "id": "YTRFBjLdqmh1"
   },
   "outputs": [],
   "source": [
    "x_reg = np.arange(0, 100)\n",
    "y_reg = x_reg * mcmc_samples['final_weight'].mean() + mcmc_samples['bias'].mean()\n",
    "sigma = mcmc_samples['sigma'].mean()"
   ]
  },
  {
   "cell_type": "code",
   "execution_count": null,
   "metadata": {
    "colab": {
     "base_uri": "https://localhost:8080/",
     "height": 291
    },
    "id": "GOLH8s8wL0Dq",
    "outputId": "aecbdaf2-2809-4cc1-a209-c02fc576988a"
   },
   "outputs": [
    {
     "data": {
      "image/png": "[encoded data removed]",
      "text/plain": [
       "<Figure size 288x288 with 1 Axes>"
      ]
     },
     "metadata": {
      "needs_background": "light"
     },
     "output_type": "display_data"
    }
   ],
   "source": [
    "with mplscience.style_context():\n",
    "    plt.scatter(midterm_scores, final_scores, s=2)\n",
    "    plt.xlim(0, 100)\n",
    "    plt.ylim(0, 100) \n",
    "    plt.xlabel('Midterm score')\n",
    "    plt.ylabel('Final score')\n",
    "    plt.plot(x_reg, y_reg, c='green')\n",
    "    for _ in range(10):\n",
    "      x_random_reg = np.arange(0, 100)\n",
    "      y_random_reg = x_reg * np.random.choice(mcmc_samples['final_weight']) + np.random.choice(mcmc_samples['bias'])\n",
    "      plt.plot(x_random_reg, y_random_reg, c='red', linewidth=0.3, alpha=0.8)"
   ]
  },
  {
   "cell_type": "markdown",
   "metadata": {
    "id": "omayVD2n6Ycq"
   },
   "source": [
    "Below we plot the linear regression with error bounds of +- 2 standard deviations of the noise term, under the assumption that the mean values of the posterior samples are the true values. Note: these error bounds are not representative of a confidence interval or credible interval, but can visually give us an idea of whether the inferred distribution for `sigma` is in the right ballpark."
   ]
  },
  {
   "cell_type": "code",
   "execution_count": null,
   "metadata": {
    "colab": {
     "base_uri": "https://localhost:8080/",
     "height": 291
    },
    "id": "bhvTp_4IJtJy",
    "outputId": "791e4977-1fdf-468b-f34d-847dd17116d6"
   },
   "outputs": [
    {
     "data": {
      "image/png": "[encoded data removed]",
      "text/plain": [
       "<Figure size 288x288 with 1 Axes>"
      ]
     },
     "metadata": {
      "needs_background": "light"
     },
     "output_type": "display_data"
    }
   ],
   "source": [
    "with mplscience.style_context():\n",
    "    plt.scatter(midterm_scores, final_scores, s=2)\n",
    "    plt.xlim(0, 100)\n",
    "    plt.ylim(0, 100) \n",
    "    plt.xlabel('Midterm score')\n",
    "    plt.ylabel('Final score')\n",
    "    plt.plot(x_reg, y_reg, c='green')\n",
    "    plt.fill_between(x_reg, y_reg - 2 * sigma, y_reg + 2 * sigma, color='gray', alpha=0.2)"
   ]
  },
  {
   "cell_type": "markdown",
   "metadata": {
    "id": "aQvkFJ53fu7C"
   },
   "source": [
    "### Now with Stochastic Variational Inference!\n",
    "\n",
    "An alternative to MCMC inference methods are variational inference methods. Rather than sampling enough times to get an idea of the true posterior distribution, variational inference methods first define a class of probability distributions, then optimize the parameters of these distributions to match the true posterior as closely as possible. \n",
    "\n",
    "The main variational inference method offered in Pyro is called Stochastic Variational Inference (SVI). You can think of it as running stochastic gradient descent over the objective function of variational inference, the ELBO (evidence lower bound objective).\n",
    "\n",
    "In order to run variational inference in Pyro, you must write a guide function in addition to your model function. The guide function defines your variational distributions and associated parameters that will be optimized with respect to the target posterior distribution. For Pyro to tie these two together, it is crucial that the `sample` and `param` names are consistent across the model and guide."
   ]
  },
  {
   "cell_type": "code",
   "execution_count": null,
   "metadata": {
    "id": "iJuFeP8sY4pe"
   },
   "outputs": [],
   "source": [
    "def guide(midterm_scores, final_scores):\n",
    "  map_bias = pyro.param('map_bias', torch.tensor(0.0)) # variational parameter for bias\n",
    "  pyro.sample('bias', dist.Delta(map_bias)) # MAP inference\n",
    "  \n",
    "  final_weight_mean_q = pyro.param('final_weight_mean_q', torch.tensor(0.0)) # variational parameters for final_weight\n",
    "  final_weight_std_q = pyro.param('final_weight_std_q', torch.tensor(1.0), constraint=torch.distributions.constraints.nonnegative)\n",
    "  pyro.sample('final_weight', dist.Normal(final_weight_mean_q, final_weight_std_q)) # Normal variational distribution\n",
    "\n",
    "  sigma_mean_q = pyro.param('sigma_mean_q', torch.tensor(1.0)) # variational parameter for sigma\n",
    "  pyro.sample('sigma', dist.Normal(sigma_mean_q, torch.tensor(0.05))) # Normal variational distribution\n"
   ]
  },
  {
   "cell_type": "code",
   "execution_count": null,
   "metadata": {
    "colab": {
     "base_uri": "https://localhost:8080/"
    },
    "id": "VHkVcNU-g-rV",
    "outputId": "175dd9a9-156c-45a9-b1a5-259d4051e106"
   },
   "outputs": [
    {
     "name": "stdout",
     "output_type": "stream",
     "text": [
      "Elbo at step 0: 2711709.3643373814\n",
      "Elbo at step 100: 1689.1014051937836\n",
      "Elbo at step 200: 1685.5697373264675\n",
      "Elbo at step 300: 1656.5758494329905\n",
      "Elbo at step 400: 1639.0323501231996\n",
      "Elbo at step 500: 1627.904301888997\n",
      "Elbo at step 600: 1615.724357488701\n",
      "Elbo at step 700: 1602.0318228250628\n",
      "Elbo at step 800: 1594.1579437892074\n",
      "Elbo at step 900: 1583.5771674464727\n"
     ]
    }
   ],
   "source": [
    "adam_params = {'lr': 0.05}\n",
    "optimizer = pyro.optim.ClippedAdam(adam_params)\n",
    "\n",
    "# setup the inference algorithm\n",
    "pyro.clear_param_store()\n",
    "svi = pyro.infer.SVI(model, guide, optimizer, loss=pyro.infer.Trace_ELBO())\n",
    "\n",
    "# do gradient steps\n",
    "elbos = []\n",
    "for step in range(1000):\n",
    "  elbo = svi.step(midterm_scores_t, final_scores_t)\n",
    "  if step % 10 == 0:\n",
    "    elbos.append(elbo)\n",
    "  if step % 100 == 0:\n",
    "    print(f'Elbo at step {step}: {elbo}')"
   ]
  },
  {
   "cell_type": "code",
   "execution_count": null,
   "metadata": {
    "colab": {
     "base_uri": "https://localhost:8080/",
     "height": 298
    },
    "id": "XC23eRSd9Mxx",
    "outputId": "746eaa57-cc15-4eb9-fd91-72795119fd2d"
   },
   "outputs": [
    {
     "data": {
      "image/png": "[encoded data removed]",
      "text/plain": [
       "<Figure size 288x288 with 1 Axes>"
      ]
     },
     "metadata": {
      "needs_background": "light"
     },
     "output_type": "display_data"
    }
   ],
   "source": [
    "with mplscience.style_context():\n",
    "  plt.plot(10 * np.arange(len(elbos)), elbos)\n",
    "  plt.xlabel(\"Epoch\")\n",
    "  plt.ylabel(\"ELBO\")"
   ]
  },
  {
   "cell_type": "code",
   "execution_count": null,
   "metadata": {
    "colab": {
     "base_uri": "https://localhost:8080/"
    },
    "id": "Sfuwrla7RTY4",
    "outputId": "fe9f2d75-3a62-4431-89d3-db5addebc397"
   },
   "outputs": [
    {
     "name": "stdout",
     "output_type": "stream",
     "text": [
      "Bias: 19.57647132873535\n",
      "Final weight q dist: Normal(0.6001940369606018, 0.0045984466560184956\n",
      "Sigma Mean: 5.509418964385986\n"
     ]
    }
   ],
   "source": [
    "print(f\"Bias: {pyro.param('map_bias').item()}\")\n",
    "print(f\"Final weight q dist: Normal({pyro.param('final_weight_mean_q').item()}, {pyro.param('final_weight_std_q').item()}\")\n",
    "print(f\"Sigma Mean: {pyro.param('sigma_mean_q').item()}\")"
   ]
  },
  {
   "cell_type": "code",
   "execution_count": null,
   "metadata": {
    "id": "HfULINMzllVZ"
   },
   "outputs": [],
   "source": [
    "n_predictive_samples = 1000\n",
    "predictive = pyro.infer.Predictive(model, guide=guide, num_samples=n_predictive_samples)\n",
    "svi_samples = {k: v.reshape(n_predictive_samples).detach().cpu().numpy()\n",
    "               for k, v in predictive(midterm_scores_t, final_scores_t).items() if k in ['final_weight']}"
   ]
  },
  {
   "cell_type": "code",
   "execution_count": null,
   "metadata": {
    "colab": {
     "base_uri": "https://localhost:8080/",
     "height": 378
    },
    "id": "iPGCFqvgmHoj",
    "outputId": "2ead53e9-4880-4f54-abcd-55a79ef1ca14"
   },
   "outputs": [
    {
     "data": {
      "text/plain": [
       "Text(0.5, 1.0, 'posterior predictive')"
      ]
     },
     "execution_count": 20,
     "metadata": {},
     "output_type": "execute_result"
    },
    {
     "data": {
      "image/png": "[encoded data removed]",
      "text/plain": [
       "<Figure size 360x360 with 1 Axes>"
      ]
     },
     "metadata": {
      "needs_background": "light"
     },
     "output_type": "display_data"
    }
   ],
   "source": [
    "fig, ax = plt.subplots(1, 1, figsize=(5, 5))\n",
    "\n",
    "sns.histplot(svi_samples['final_weight'].flatten(), ax=ax)\n",
    "ax.set_xlabel('final_weight')\n",
    "ax.set_title('posterior predictive')"
   ]
  },
  {
   "cell_type": "code",
   "execution_count": null,
   "metadata": {
    "id": "Z3dHQ8RISNqH"
   },
   "outputs": [],
   "source": [
    "x_reg_svi = np.arange(0, 100)\n",
    "y_reg_svi = x_reg_svi * pyro.param('final_weight_mean_q').item() + pyro.param('map_bias').item()\n",
    "sigma_reg_svi = pyro.param('sigma_mean_q').item()"
   ]
  },
  {
   "cell_type": "code",
   "execution_count": null,
   "metadata": {
    "colab": {
     "base_uri": "https://localhost:8080/",
     "height": 291
    },
    "id": "EPPd1SNYSJs8",
    "outputId": "81652e75-4333-4ddf-8a4b-4b43c98f58df"
   },
   "outputs": [
    {
     "data": {
      "image/png": "[encoded data removed]",
      "text/plain": [
       "<Figure size 288x288 with 1 Axes>"
      ]
     },
     "metadata": {
      "needs_background": "light"
     },
     "output_type": "display_data"
    }
   ],
   "source": [
    "with mplscience.style_context():\n",
    "    plt.scatter(midterm_scores, final_scores, s=2)\n",
    "    plt.xlim(0, 100)\n",
    "    plt.ylim(0, 100) \n",
    "    plt.xlabel('Midterm score')\n",
    "    plt.ylabel('Final score')\n",
    "    plt.plot(x_reg_svi, y_reg_svi, c='green')\n",
    "    plt.fill_between(x_reg_svi, y_reg_svi - 2 * sigma_reg_svi, y_reg_svi + 2 * sigma_reg_svi, color='gray', alpha=0.2)"
   ]
  },
  {
   "cell_type": "markdown",
   "metadata": {
    "id": "F3pVVM-IGnSc"
   },
   "source": [
    "## Using AutoGuides\n",
    "\n",
    "Via Automatic Differentiation Variational Inference (https://arxiv.org/abs/1603.00788), Pyro can automatically generate a guide for a given model. In this case, we will use the AutoDiagonalNormal AutoGuide which uses a multivariate Gaussian distribution with a diagonal covariance matrix to approximate the posterior distribution. In order to minimize the KL divergence between our variational distribution and the tru posterior, we must ensure that the support of the variational distribution is a strict subset of the true posterior support. In order to guarantee this, Pyro maps the model variable distributions to the unconstrained real space.\n",
    "\n",
    "Beyond the AutoDiagonalNormal AutoGuide, Pyro offers several other choices. For example, the AutoMultivariateNormal is a full rank version of the AutoDiagonalNormal AutoGuide. This relaxes the mean-field assumption that is implicitly made when using the AutoDiagonalNormal guide. They can all be found detailed [here](https://docs.pyro.ai/en/stable/infer.autoguide.html)."
   ]
  },
  {
   "cell_type": "code",
   "execution_count": null,
   "metadata": {
    "colab": {
     "base_uri": "https://localhost:8080/"
    },
    "id": "hELyj95LGoyb",
    "outputId": "c7d6720b-e4c3-4f44-ffcb-7d46226e448f"
   },
   "outputs": [
    {
     "name": "stdout",
     "output_type": "stream",
     "text": [
      "Elbo at step 0: 1479942.0826857972\n",
      "Elbo at step 100: 1663.7646354781264\n",
      "Elbo at step 200: 1644.798524752057\n",
      "Elbo at step 300: 1640.9976815427478\n",
      "Elbo at step 400: 1629.023089147226\n",
      "Elbo at step 500: 1611.835976134979\n",
      "Elbo at step 600: 1606.9996962173204\n",
      "Elbo at step 700: 1599.3924201757332\n",
      "Elbo at step 800: 1594.7912956845685\n",
      "Elbo at step 900: 1585.8639159131774\n"
     ]
    }
   ],
   "source": [
    "# We use the same model as above.\n",
    "\n",
    "adam_params = {'lr': 0.05}\n",
    "optimizer = pyro.optim.ClippedAdam(adam_params)\n",
    "\n",
    "# setup the inference algorithm\n",
    "pyro.clear_param_store()\n",
    "guide = pyro.infer.autoguide.AutoDiagonalNormal(model)\n",
    "svi = pyro.infer.SVI(model, guide, optimizer, loss=pyro.infer.Trace_ELBO())\n",
    "\n",
    "# do gradient steps\n",
    "elbos = []\n",
    "for step in range(1000):\n",
    "  elbo = svi.step(midterm_scores_t, final_scores_t)\n",
    "  if step % 10 == 0:\n",
    "    elbos.append(elbo)\n",
    "  if step % 100 == 0:\n",
    "    print(f'Elbo at step {step}: {elbo}')"
   ]
  },
  {
   "cell_type": "code",
   "execution_count": null,
   "metadata": {
    "colab": {
     "base_uri": "https://localhost:8080/",
     "height": 298
    },
    "id": "2xlqh9P2cJVQ",
    "outputId": "cdeb6b09-1a0a-4f11-f68e-811f6f7ff95b"
   },
   "outputs": [
    {
     "data": {
      "image/png": "[encoded data removed]",
      "text/plain": [
       "<Figure size 288x288 with 1 Axes>"
      ]
     },
     "metadata": {
      "needs_background": "light"
     },
     "output_type": "display_data"
    }
   ],
   "source": [
    "with mplscience.style_context():\n",
    "  plt.plot(10 * np.arange(len(elbos)), elbos)\n",
    "  plt.xlabel(\"Epoch\")\n",
    "  plt.ylabel(\"ELBO\")"
   ]
  },
  {
   "cell_type": "markdown",
   "metadata": {
    "id": "YTRopxw2vbR3"
   },
   "source": [
    "We can now inspect the inferred posterior distribution via the `guide.quantiles` method which takes the learned distributions and maps them back to the original support of the model prior distributions."
   ]
  },
  {
   "cell_type": "code",
   "execution_count": null,
   "metadata": {
    "colab": {
     "base_uri": "https://localhost:8080/"
    },
    "id": "BzPIeLkxvR2K",
    "outputId": "3bbd75c9-2bc3-402c-88a7-2e3491efc4cd"
   },
   "outputs": [
    {
     "data": {
      "text/plain": [
       "{'bias': array([19.768734, 19.957918, 20.147102], dtype=float32),\n",
       " 'final_weight': array([0.6183549 , 0.6209757 , 0.62359643], dtype=float32),\n",
       " 'sigma': array([5.6512375, 5.7555404, 5.8617682], dtype=float32)}"
      ]
     },
     "execution_count": 25,
     "metadata": {},
     "output_type": "execute_result"
    }
   ],
   "source": [
    "quantiles = {k:v.detach().numpy() for k, v in guide.quantiles([0.25, 0.5, 0.75]).items()}\n",
    "quantiles"
   ]
  },
  {
   "cell_type": "code",
   "execution_count": null,
   "metadata": {
    "id": "iRhgaGooweI8"
   },
   "outputs": [],
   "source": [
    "x_reg_auto = np.arange(0, 100)\n",
    "y_reg_auto = x_reg_auto * quantiles['final_weight'][2] + quantiles['bias'][2]\n",
    "sigma_reg_auto = quantiles['sigma'][2]"
   ]
  },
  {
   "cell_type": "code",
   "execution_count": null,
   "metadata": {
    "colab": {
     "base_uri": "https://localhost:8080/",
     "height": 291
    },
    "id": "K0RSMM5HwRlH",
    "outputId": "6533714c-480f-47df-a42e-cc42af91aece"
   },
   "outputs": [
    {
     "data": {
      "image/png": "[encoded data removed]",
      "text/plain": [
       "<Figure size 288x288 with 1 Axes>"
      ]
     },
     "metadata": {
      "needs_background": "light"
     },
     "output_type": "display_data"
    }
   ],
   "source": [
    "with mplscience.style_context():\n",
    "    plt.scatter(midterm_scores, final_scores, s=2)\n",
    "    plt.xlim(0, 100)\n",
    "    plt.ylim(0, 100) \n",
    "    plt.xlabel('Midterm score')\n",
    "    plt.ylabel('Final score')\n",
    "    plt.plot(x_reg_auto, y_reg_auto, c='green')\n",
    "    plt.fill_between(x_reg_auto, y_reg_auto - 2 * sigma_reg_auto, y_reg_auto + 2 * sigma_reg_auto, color='gray', alpha=0.2)"
   ]
  },
  {
   "cell_type": "markdown",
   "metadata": {
    "id": "YuLWcLIlxeDT"
   },
   "source": [
    "We see similar results to with our handwritten guide, but without having to write a guide! However, autoguides should not be used carelessly in every situation since they are restrictive, black-box, and make implicit assumptions about a good variational distribution family. "
   ]
  }
 ],
 "metadata": {
  "colab": {
   "collapsed_sections": [],
   "name": "CCB Skills Seminar - Intro to Pyro",
   "provenance": []
  },
  "kernelspec": {
   "display_name": "Python 3 (ipykernel)",
   "language": "python",
   "name": "python3"
  },
  "language_info": {
   "codemirror_mode": {
    "name": "ipython",
    "version": 3
   },
   "file_extension": ".py",
   "mimetype": "text/x-python",
   "name": "python",
   "nbconvert_exporter": "python",
   "pygments_lexer": "ipython3",
   "version": "3.9.9"
  }
 },
 "nbformat": 4,
 "nbformat_minor": 1
}
